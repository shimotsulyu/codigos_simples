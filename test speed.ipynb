{
 "cells": [
  {
   "cell_type": "code",
   "execution_count": 2,
   "id": "binding-tennis",
   "metadata": {},
   "outputs": [],
   "source": [
    "#numeros primos de 0 até 1000\n",
    "primes = [2, 3, 5, 7, 11, 13, 17, 19, 23, 29, 31, 37, 41, 43, 47, 53, 59, 61, 67, 71, 73, 79, 83, 89, 97,\n",
    "         101, 103, 107, 109, 113, 127, 131, 137, 139, 149, 151, 157, 163, 167, 173, 179, 181, 191, 193, 197, 199,\n",
    "         211, 223, 227, 229, 233, 239, 241, 251, 257, 263, 269, 271, 277, 281, 283, 293,\n",
    "         307, 311, 313, 317, 331, 337, 347, 349, 353, 359, 367, 373, 379, 383, 389, 397,\n",
    "         401, 409, 419, 421, 431, 433, 439, 443, 449, 457, 461, 463, 467, 479, 487, 491, 499,\n",
    "         503, 509, 521, 523, 541, 547, 557, 563, 569, 571 ,577 ,587, 593, 599,\n",
    "         601, 607, 613, 617, 619, 631, 641, 643, 647, 653, 659, 661, 673, 677, 683, 691,\n",
    "         701, 709, 719, 727, 733, 739, 743, 751, 757, 761, 769, 773, 787, 797,\n",
    "         809, 811, 821, 823, 827, 829, 839, 853, 857, 859, 863, 877, 881, 883, 887,\n",
    "         907, 911, 919, 929, 937, 941, 947, 953, 967, 971, 977, 983, 991, 997]"
   ]
  },
  {
   "cell_type": "code",
   "execution_count": 16,
   "id": "mobile-active",
   "metadata": {},
   "outputs": [
    {
     "data": {
      "text/plain": [
       "True"
      ]
     },
     "execution_count": 16,
     "metadata": {},
     "output_type": "execute_result"
    }
   ],
   "source": [
    "def is_prime1(n):\n",
    "    #se o numero for divisivel por 1 e ele mesmo é primo!\n",
    "    return [True for i in range(2,n+1) if n%i==0].count(True)==1\n",
    "p=[]\n",
    "for i in range(1000):\n",
    "    if is_prime1(i):\n",
    "        p.append(i)\n",
    "p==primes"
   ]
  },
  {
   "cell_type": "code",
   "execution_count": 17,
   "id": "liable-paintball",
   "metadata": {},
   "outputs": [
    {
     "data": {
      "text/plain": [
       "True"
      ]
     },
     "execution_count": 17,
     "metadata": {},
     "output_type": "execute_result"
    }
   ],
   "source": [
    "def is_prime2(n):\n",
    "    #se o numero for 2 ou 5 é primo!\n",
    "    if n==2 or n==5: return True\n",
    "    #se o numero for menor ou igual a 1 ou par ou terminar em 5, não é primo!\n",
    "    if n<=1 or n%2==0 or n%5==0: return False\n",
    "    #se o numero for menor ou igual a 10 verifica com esta linha\n",
    "    if n<=10: return [True for i in range(2,n+1) if n%i==0].count(True)==1\n",
    "    #se for maior que 10 não vou percorrer todos os numeros para agilizar o processo\n",
    "    #a linha ira percorrer apenas os numeros que tem possibilidade de ser primo, até a raiz dele mesmo!\n",
    "    return [True for d in range(0,int((n**0.5)+1),10) for i in (1,3,7,9) if n%(d+i)==0].count(True)==1\n",
    "p=[]\n",
    "for i in range(1000):\n",
    "    if is_prime2(i):\n",
    "        p.append(i)\n",
    "p==primes"
   ]
  },
  {
   "cell_type": "code",
   "execution_count": 18,
   "id": "widespread-renewal",
   "metadata": {},
   "outputs": [],
   "source": [
    "n=21072041\n",
    "import time"
   ]
  },
  {
   "cell_type": "code",
   "execution_count": 21,
   "id": "parallel-genome",
   "metadata": {},
   "outputs": [
    {
     "name": "stdout",
     "output_type": "stream",
     "text": [
      "1.5227179527282715\n"
     ]
    }
   ],
   "source": [
    "ini = time.time()\n",
    "is_prime1(n)\n",
    "print(time.time()-ini)"
   ]
  },
  {
   "cell_type": "code",
   "execution_count": 22,
   "id": "complete-undergraduate",
   "metadata": {},
   "outputs": [
    {
     "name": "stdout",
     "output_type": "stream",
     "text": [
      "0.0008072853088378906\n"
     ]
    }
   ],
   "source": [
    "ini = time.time()\n",
    "is_prime2(n)\n",
    "print(time.time()-ini)"
   ]
  },
  {
   "cell_type": "code",
   "execution_count": null,
   "id": "specialized-clear",
   "metadata": {},
   "outputs": [],
   "source": []
  }
 ],
 "metadata": {
  "kernelspec": {
   "display_name": "Python 3.6",
   "language": "python",
   "name": "python3.6"
  },
  "language_info": {
   "codemirror_mode": {
    "name": "ipython",
    "version": 3
   },
   "file_extension": ".py",
   "mimetype": "text/x-python",
   "name": "python",
   "nbconvert_exporter": "python",
   "pygments_lexer": "ipython3",
   "version": "3.6.9"
  }
 },
 "nbformat": 4,
 "nbformat_minor": 5
}

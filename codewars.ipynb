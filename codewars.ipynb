{
 "cells": [
  {
   "cell_type": "code",
   "execution_count": 564,
   "id": "binary-overall",
   "metadata": {},
   "outputs": [],
   "source": [
    "class test:\n",
    "    def describe(title):\n",
    "        print(title,'\\n')\n",
    "    def it(title):\n",
    "        print(title)\n",
    "    def assert_equals(a,b,s=None):\n",
    "        if a==b: print(True,a,'\\n')\n",
    "        elif s==None: print('*',False,a,b,'\\n')\n",
    "        else: print('*',False,a,b,s,'\\n')"
   ]
  },
  {
   "cell_type": "code",
   "execution_count": 473,
   "id": "respected-requirement",
   "metadata": {},
   "outputs": [
    {
     "name": "stdout",
     "output_type": "stream",
     "text": [
      "0.714651121212121\n"
     ]
    }
   ],
   "source": [
    "def solution(molarMass1, molarMass2, givenMass1, givenMass2, volume, temp):\n",
    "    return (((givenMass1/molarMass1)+(givenMass2/molarMass2))*0.082*(temp+273.15))/volume\n",
    "s = solution(44, 30, 3, 2, 5, 50)\n",
    "if s == 0.7146511212121212:\n",
    "    print('acertou',s)\n",
    "else: print(s)"
   ]
  },
  {
   "cell_type": "code",
   "execution_count": null,
   "id": "guilty-asian",
   "metadata": {},
   "outputs": [],
   "source": [
    "def fibonacci(n):\n",
    "    s = [0,1]\n",
    "    for i in range(1,n-1):\n",
    "        s.append(s[i]+s[i-1])\n",
    "    return s[:n]\n",
    "print([0,1,1,2,3,5,8,13,21,34])\n",
    "fibonacci(10)"
   ]
  },
  {
   "cell_type": "code",
   "execution_count": 98,
   "id": "compliant-employee",
   "metadata": {},
   "outputs": [
    {
     "name": "stdout",
     "output_type": "stream",
     "text": [
      "No digits found False\n"
     ]
    }
   ],
   "source": [
    "alph = {0:'ZERO',1:'ONE',2:'TWO',3:'TRHEE',4:'FOUR',5:'FIVE',6:'SIX',7:'SEVEN',8:'EIGHT',9:'NINE'}\n",
    "def recover(st):\n",
    "    st = [i for i in st]\n",
    "    s=str()\n",
    "    for i in range(len(st)-2):\n",
    "        if len(st[i:])>=3:\n",
    "            if sorted(st[i:i+3])==sorted(alph[1]): s+='1'\n",
    "            elif sorted(st[i:i+3])==sorted(alph[2]): s+='2'\n",
    "            elif sorted(st[i:i+3])==sorted(alph[6]): s+='6'\n",
    "            elif len(st[i:])>=4:\n",
    "                if sorted(st[i:i+4])==sorted(alph[0]): s+='0'\n",
    "                elif sorted(st[i:i+4])==sorted(alph[4]): s+='4'\n",
    "                elif sorted(st[i:i+4])==sorted(alph[5]): s+='5'\n",
    "                elif sorted(st[i:i+4])==sorted(alph[9]): s+='9'\n",
    "                elif len(st[i:])>=5:\n",
    "                    if sorted(st[i:i+5])==sorted(alph[3]): s+='3'\n",
    "                    elif sorted(st[i:i+5])==sorted(alph[7]): s+='7'\n",
    "                    elif sorted(st[i:i+5])==sorted(alph[8]): s+='8'\n",
    "    if s=='':return 'No digits found'\n",
    "    return s\n",
    "#s = recover('NEOTWONEINEIGHTOWSVEEN')\n",
    "s = recover('ZYX')\n",
    "print(s,s=='12219827')"
   ]
  },
  {
   "cell_type": "code",
   "execution_count": 125,
   "id": "quality-insertion",
   "metadata": {},
   "outputs": [
    {
     "name": "stdout",
     "output_type": "stream",
     "text": [
      "No digits found False\n"
     ]
    }
   ],
   "source": [
    "alph = {\"ZERO\":0,\"ONE\":1,\"TWO\":2,\"THREE\":3,\"FOUR\":4,\"FIVE\":5,\"SIX\":6,\"SEVEN\":7,\"EIGHT\":8,\"NINE\":9}\n",
    "def recover(st):\n",
    "    s=str()\n",
    "    for i in range(len(st)-2):\n",
    "        for k,t in alph.items():\n",
    "            if sorted(st[i:i+len(k)])==sorted(k): s+=str(t)\n",
    "    return s or 'No digits found'\n",
    "#s = recover('NEOTWONEINEIGHTOWSVEEN')\n",
    "s = recover('ZYX')\n",
    "print(s,s=='12219827')"
   ]
  },
  {
   "cell_type": "code",
   "execution_count": 130,
   "id": "latin-arctic",
   "metadata": {},
   "outputs": [
    {
     "data": {
      "text/plain": [
       "15"
      ]
     },
     "execution_count": 130,
     "metadata": {},
     "output_type": "execute_result"
    }
   ],
   "source": [
    "def positive_sum(arr):\n",
    "    return sum(i for i in arr if i>0)\n",
    "positive_sum([1,2,3,4,5])#,15"
   ]
  },
  {
   "cell_type": "code",
   "execution_count": 133,
   "id": "liquid-disposition",
   "metadata": {},
   "outputs": [
    {
     "data": {
      "text/plain": [
       "'dlrow'"
      ]
     },
     "execution_count": 133,
     "metadata": {},
     "output_type": "execute_result"
    }
   ],
   "source": [
    "def solution(string):\n",
    "    return string[::-1]\n",
    "solution('world')"
   ]
  },
  {
   "cell_type": "code",
   "execution_count": 140,
   "id": "arbitrary-necklace",
   "metadata": {},
   "outputs": [
    {
     "data": {
      "text/plain": [
       "6"
      ]
     },
     "execution_count": 140,
     "metadata": {},
     "output_type": "execute_result"
    }
   ],
   "source": [
    "def grow(arr):\n",
    "    s=1\n",
    "    for i in arr: s*=i\n",
    "    return s\n",
    "grow([1,2,3])"
   ]
  },
  {
   "cell_type": "code",
   "execution_count": 141,
   "id": "greater-toddler",
   "metadata": {},
   "outputs": [
    {
     "data": {
      "text/plain": [
       "6"
      ]
     },
     "execution_count": 141,
     "metadata": {},
     "output_type": "execute_result"
    }
   ],
   "source": [
    "def grow(arr):\n",
    "    return eval('*'.join([str(i) for i in arr]))\n",
    "grow([1,2,3])"
   ]
  },
  {
   "cell_type": "code",
   "execution_count": 386,
   "id": "sunset-luther",
   "metadata": {},
   "outputs": [
    {
     "data": {
      "text/plain": [
       "True"
      ]
     },
     "execution_count": 386,
     "metadata": {},
     "output_type": "execute_result"
    }
   ],
   "source": [
    "# 2nd root of 256 is 16\n",
    "# 4th root of 256 is 4\n",
    "# 8th root of 256 is 2\n",
    "def perfect_roots(n): # returns True \n",
    "    for i in [2,4,8]:\n",
    "        if n**(1/i)-int(n**(1/i))!=0:\n",
    "            return False\n",
    "    return True\n",
    "perfect_roots(256)"
   ]
  },
  {
   "cell_type": "code",
   "execution_count": 485,
   "id": "incident-teens",
   "metadata": {},
   "outputs": [
    {
     "name": "stdout",
     "output_type": "stream",
     "text": [
      "Example Tests \n",
      "\n",
      "True 21\n",
      "True 1\n",
      "True 4\n",
      "True 2008\n",
      "True 1666\n",
      "True 1942\n"
     ]
    }
   ],
   "source": [
    "def solution(roman):\n",
    "    \"\"\"complete the solution by transforming the roman numeral into an integer\"\"\"\n",
    "    symbol = {'I':1,'V':5,'X':10,'L':50,'C':100,'D':500,'M':1000,'IV':4,'IX':9,'XL':40,'XC':90,'CD':400,'CM':900}\n",
    "    s,i=0,0\n",
    "    while i<len(roman):\n",
    "        try:\n",
    "            s+=symbol[roman[i:i+2]]\n",
    "            i+=2\n",
    "        except:\n",
    "            s+=symbol[roman[i:i+1]]\n",
    "            i+=1\n",
    "    return s\n",
    "    \n",
    "test.describe(\"Example Tests\")\n",
    "test.assert_equals(solution('XXI'), 21, 'XXI should == 21')\n",
    "test.assert_equals(solution('I'), 1, 'I should == 1')\n",
    "test.assert_equals(solution('IV'), 4, 'IV should == 4')\n",
    "test.assert_equals(solution('MMVIII'), 2008, 'MMVIII should == 2008')\n",
    "test.assert_equals(solution('MDCLXVI'), 1666, 'MDCLXVI should == 1666')\n",
    "test.assert_equals(solution('MCMXLII'), 1942,'MCMXLII should == 1942')"
   ]
  },
  {
   "cell_type": "code",
   "execution_count": 499,
   "id": "formal-recruitment",
   "metadata": {},
   "outputs": [
    {
     "name": "stdout",
     "output_type": "stream",
     "text": [
      "True [1.1, 2.2, 3.3]\n"
     ]
    }
   ],
   "source": [
    "def to_float_array(arr): \n",
    "    return [float(i) for i in arr]\n",
    "\n",
    "test.assert_equals(to_float_array([\"1.1\", \"2.2\", \"3.3\"]), [1.1, 2.2, 3.3])"
   ]
  },
  {
   "cell_type": "code",
   "execution_count": null,
   "id": "rubber-poison",
   "metadata": {},
   "outputs": [],
   "source": [
    "# def super_street_fighter_selection(fighters, position, moves):\n",
    "#     p = [position[0],position[1]]\n",
    "#     L=[]\n",
    "#     for i in moves:\n",
    "#         if i=='up':\n",
    "#             if p[1]>0:\n",
    "#                 if p[0]!=0 and p[1]!=1: pass\n",
    "#                 else: p[1]+=1\n",
    "#         elif i=='down':\n",
    "#             if p[0]<2: p[0]+=1\n",
    "#         elif i=='left':\n",
    "#             p[1]-=1\n",
    "#             if p[0]==0 and p[1]==0:\n",
    "#                 p[1]=4\n",
    "#         elif i=='right':\n",
    "#             p[1]+=1\n",
    "#             if p[0]==0 and p[1]==5:\n",
    "#                 p[1]=1\n",
    "#         L.append(fighters[p[0]][p[1]])\n",
    "#     return L"
   ]
  },
  {
   "cell_type": "code",
   "execution_count": 530,
   "id": "scientific-supplier",
   "metadata": {},
   "outputs": [
    {
     "name": "stdout",
     "output_type": "stream",
     "text": [
      "Balrog\n",
      "Vega\n",
      "3\n"
     ]
    }
   ],
   "source": [
    "i,j=1,0\n",
    "print(fighters[i][j])\n",
    "\n",
    "#down\n",
    "i+=1\n",
    "print(fighters[i][j])\n",
    "\n",
    "print(len(fighters))"
   ]
  },
  {
   "cell_type": "code",
   "execution_count": 586,
   "id": "forward-china",
   "metadata": {},
   "outputs": [
    {
     "name": "stdout",
     "output_type": "stream",
     "text": [
      "Character selection \n",
      "\n",
      "should work with no selection cursor moves\n",
      "True [] \n",
      "\n",
      "should stop on empty spaces vertically\n",
      "True ['Balrog'] \n",
      "\n",
      "should stop on empty spaces vertically\n",
      "True ['Balrog', 'Balrog', 'Balrog', 'Balrog'] \n",
      "\n",
      "should stop vertically\n",
      "True ['Vega', 'Vega', 'Vega', 'Vega'] \n",
      "\n",
      "should stop on empty spaces vertically\n",
      "True ['Sagat', 'Sagat', 'Sagat', 'Sagat'] \n",
      "\n",
      "should stop vertically\n",
      "True ['M.Bison', 'M.Bison', 'M.Bison', 'M.Bison'] \n",
      "\n",
      "should rotate horizontally\n",
      "True ['Chun Li', 'Ken', 'Balrog', 'Sagat', 'Dhalsim', 'Zangief', 'Chun Li', 'Ken'] \n",
      "\n",
      "should rotate horizontally with empty spaces\n",
      "True ['Blanka', 'Guile', 'Ryu', 'E.Honda', 'Blanka', 'Guile', 'Ryu', 'E.Honda'] \n",
      "\n",
      "should work with longer grid\n",
      "True ['E.Honda', 'Ryu', 'Ken', 'Chun Li', 'Balrog', 'Ken', 'Chun Li', 'Fei Long', 'Vega', 'Balrog', 'Fei Long', 'Vega', 'Blanka', 'Guile', 'Chun Li', 'Sagat', 'M.Bison', 'Zangief', 'Dhalsim', 'Dhalsim', 'Zangief', 'M.Bison', 'Sagat', 'T.Hawk', 'Cammy', 'Deejay', 'T.Hawk'] \n",
      "\n",
      "should work with odd initial position\n",
      "True ['Guile', 'Blanka', 'M.Bison', 'Zangief', 'Dhalsim', 'Sagat', 'M.Bison', 'Deejay', 'T.Hawk', 'Cammy', 'Deejay', 'T.Hawk', 'Sagat', 'M.Bison', 'Zangief', 'Guile', 'Chun Li', 'Blanka', 'Guile'] \n",
      "\n"
     ]
    }
   ],
   "source": [
    "def super_street_fighter_selection(fighters, position, moves):\n",
    "    if moves==[]: return []\n",
    "    else:\n",
    "        p,L=[position[0],position[1]],[]\n",
    "        for m in moves:\n",
    "            if m=='up':\n",
    "                if p[0]!=0 and fighters[p[0]-1][p[1]]!='':p[0]-=1\n",
    "            elif m=='down':\n",
    "                if p[0]!=len(fighters)-1 and fighters[p[0]+1][p[1]]!='':p[0]+=1\n",
    "            elif m=='right':\n",
    "                if p[1]<len(fighters[0])-1:p[1]+=1\n",
    "                else:p[1]=0\n",
    "                while fighters[p[0]][p[1]]=='':\n",
    "                    if p[1]<len(fighters[0])-1: p[1]+=1\n",
    "                    else: p[1]=0\n",
    "            elif m=='left':\n",
    "                if p[1]>0:p[1]-=1\n",
    "                else: p[1]=len(fighters[0])-1\n",
    "                while fighters[p[0]][p[1]]=='':\n",
    "                    if p[1]>0: p[1]-=1\n",
    "                    else: p[1]=len(fighters[0])-1\n",
    "            L.append(fighters[p[0]][p[1]])\n",
    "    return L\n",
    "# DO NOT CHANGE THIS VARIABLE!\n",
    "fighters = [\n",
    "\t[       \"\",    \"Ryu\",  \"E.Honda\",  \"Blanka\",   \"Guile\", \"\"       ],\n",
    "\t[ \"Balrog\",    \"Ken\",  \"Chun Li\", \"Zangief\", \"Dhalsim\", \"Sagat\"  ],\n",
    "\t[   \"Vega\", \"T.Hawk\", \"Fei Long\",  \"Deejay\",   \"Cammy\", \"M.Bison\"]\n",
    "]\n",
    "# DO NOT CHANGE THIS VARIABLE!\n",
    "fighters4 = [\n",
    "\t[        \"\",     \"Ryu\",  \"E.Honda\",  \"Cammy\" ],\n",
    "\t[  \"Balrog\",     \"Ken\",  \"Chun Li\",       \"\" ],\n",
    "\t[    \"Vega\",        \"\", \"Fei Long\", \"Balrog\",],\n",
    "    [  \"Blanka\",   \"Guile\",         \"\", \"Chun Li\"],\n",
    "    [ \"M.Bison\", \"Zangief\",  \"Dhalsim\", \"Sagat\"  ],\n",
    "    [  \"Deejay\",   \"Cammy\",         \"\", \"T.Hawk\" ]\n",
    "]\n",
    "test.describe(\"Character selection\")\n",
    "test.it(\"should work with no selection cursor moves\")\n",
    "moves =  []\n",
    "position = (0,0)\n",
    "solution = []\n",
    "test.assert_equals(super_street_fighter_selection(fighters,position, moves), solution)\n",
    "\n",
    "test.it(\"should stop on empty spaces vertically\")\n",
    "moves =  [\"up\"]\n",
    "position = (1,0)\n",
    "solution = ['Balrog']\n",
    "test.assert_equals(super_street_fighter_selection(fighters,position, moves), solution)\n",
    "\n",
    "test.it(\"should stop on empty spaces vertically\")\n",
    "moves =  [\"up\"]*4\n",
    "position = (1,0)\n",
    "solution = ['Balrog']*4\n",
    "test.assert_equals(super_street_fighter_selection(fighters,position, moves), solution)\n",
    "\n",
    "test.it(\"should stop vertically\")\n",
    "moves =  [\"down\"]*4\n",
    "position = (1,0)\n",
    "solution = ['Vega']*4\n",
    "test.assert_equals(super_street_fighter_selection(fighters,position, moves), solution)\n",
    "\n",
    "test.it(\"should stop on empty spaces vertically\")\n",
    "moves =  [\"up\"]*4\n",
    "position = (1,5)\n",
    "solution = ['Sagat']*4\n",
    "test.assert_equals(super_street_fighter_selection(fighters,position, moves), solution)\n",
    "\n",
    "test.it(\"should stop vertically\")\n",
    "moves =  [\"down\"]*4\n",
    "position = (1,5)\n",
    "solution = ['M.Bison']*4\n",
    "test.assert_equals(super_street_fighter_selection(fighters,position, moves), solution)\n",
    "\n",
    "test.it(\"should rotate horizontally\")\n",
    "moves =  [\"left\"]*8\n",
    "position = (1,3)\n",
    "solution = ['Chun Li', 'Ken', 'Balrog', 'Sagat', 'Dhalsim', 'Zangief', 'Chun Li', 'Ken']\n",
    "test.assert_equals(super_street_fighter_selection(fighters,position, moves), solution)\n",
    "\n",
    "test.it(\"should rotate horizontally with empty spaces\")\n",
    "moves =  [\"right\"]*8\n",
    "position = (0,2)\n",
    "solution = ['Blanka', 'Guile', 'Ryu', 'E.Honda', 'Blanka', 'Guile', 'Ryu', 'E.Honda']\n",
    "test.assert_equals(super_street_fighter_selection(fighters,position, moves), solution)\n",
    "\n",
    "#----------------------------fighters 4\n",
    "test.it(\"should work with longer grid\")\n",
    "moves =  [\"left\"]*2+[\"down\"]+[\"right\"]*4+[\"down\"]+[\"left\"]*4+[\"down\"]+[\"right\"]*2+[\"down\"]+[\"right\"]*3+[\"down\"]+[\"left\"]*3+[\"down\"]+[\"left\"]*3\n",
    "position = (0,3)\n",
    "solution = ['E.Honda', 'Ryu', 'Ken', 'Chun Li', 'Balrog', 'Ken', 'Chun Li', 'Fei Long', 'Vega', 'Balrog', 'Fei Long', 'Vega', 'Blanka', 'Guile', 'Chun Li', 'Sagat', 'M.Bison', 'Zangief', 'Dhalsim', 'Dhalsim', 'Zangief', 'M.Bison', 'Sagat', 'T.Hawk', 'Cammy', 'Deejay', 'T.Hawk']\n",
    "test.assert_equals(super_street_fighter_selection(fighters4,position, moves), solution)\n",
    "\n",
    "test.it(\"should work with odd initial position\")\n",
    "moves =  [\"left\"]*2+[\"down\"]+[\"right\"]*4+[\"down\"]+[\"left\"]*4+[\"up\"]+[\"right\"]*2+[\"up\"]+[\"right\"]*3\n",
    "position = (3,3)\n",
    "solution = ['Guile', 'Blanka', 'M.Bison', 'Zangief', 'Dhalsim', 'Sagat', 'M.Bison', 'Deejay', 'T.Hawk', 'Cammy', 'Deejay', 'T.Hawk', 'Sagat', 'M.Bison', 'Zangief', 'Guile', 'Chun Li', 'Blanka', 'Guile']\n",
    "test.assert_equals(super_street_fighter_selection(fighters4,position, moves), solution)\n"
   ]
  },
  {
   "cell_type": "code",
   "execution_count": 598,
   "id": "certified-plymouth",
   "metadata": {},
   "outputs": [
    {
     "name": "stdout",
     "output_type": "stream",
     "text": [
      "True 0.5580321939764581 \n",
      "\n",
      "* False 0.6921486500921895 0.6921486500921933 \n",
      "\n",
      "* False 0.6930471674194691 0.6930471674194457 \n",
      "\n",
      "* False 0.6930471955576154 0.6930471955575918 \n",
      "\n"
     ]
    }
   ],
   "source": [
    "def doubles(maxk, maxn):\n",
    "    s=0\n",
    "    for k in range(1,maxk+1):\n",
    "        for n in range(1,maxn+1):\n",
    "            s+=1/(k*(n+1)**(2*k))\n",
    "    return s\n",
    "test.assert_equals(doubles(1, 10), 0.5580321939764581)\n",
    "test.assert_equals(doubles(10, 1000), 0.6921486500921933)\n",
    "test.assert_equals(doubles(10, 10000), 0.6930471674194457)\n",
    "test.assert_equals(doubles(20, 10000), 0.6930471955575918)"
   ]
  },
  {
   "cell_type": "code",
   "execution_count": null,
   "id": "engaged-depth",
   "metadata": {},
   "outputs": [],
   "source": []
  }
 ],
 "metadata": {
  "kernelspec": {
   "display_name": "Python 3",
   "language": "python",
   "name": "python3"
  },
  "language_info": {
   "codemirror_mode": {
    "name": "ipython",
    "version": 3
   },
   "file_extension": ".py",
   "mimetype": "text/x-python",
   "name": "python",
   "nbconvert_exporter": "python",
   "pygments_lexer": "ipython3",
   "version": "3.6.9"
  }
 },
 "nbformat": 4,
 "nbformat_minor": 5
}

{
 "cells": [
  {
   "cell_type": "code",
   "execution_count": 77,
   "id": "vocational-generation",
   "metadata": {},
   "outputs": [],
   "source": [
    "class primesGen:\n",
    "    def __init__(self,data=None):\n",
    "        self.primes = data\n",
    "        self.maxprime = data.iloc[-1]**2\n",
    "    def primeTrue(self,num):\n",
    "        if num<=1 or (num%(int(num/10)))%2==0 or (num%(int(num/10)))%5==0: return False\n",
    "        elif num>self.maxprime: return None\n",
    "        else:\n",
    "            for p in self.primes:\n",
    "                if num%p==0 and num!=p: return False\n",
    "                elif num**0.5<p: return True\n",
    "            return True\n",
    "\n",
    "from numba import jit\n",
    "@jit(nopython=True)        \n",
    "def is_prime(number):\n",
    "    if number<=1 or (number%(int(number/10)))%2==0 or (number%(int(number/10)))%5==0: return False\n",
    "    if number<=10: return [True for i in range(2,11) if number%i==0].count(True)==1\n",
    "    return [True for d in range(0,int((number**0.5)+1),10) for i in [1,3,7,9] if number%(d+i)==0].count(True)==1"
   ]
  },
  {
   "cell_type": "code",
   "execution_count": null,
   "id": "declared-bulletin",
   "metadata": {},
   "outputs": [],
   "source": [
    "import pandas as pd\n",
    "import time\n",
    "import os\n",
    "\n",
    "ini = time.time()\n",
    "arquivo = 'datas/primenumbers.csv'\n",
    "rmax = 100000\n",
    "for i in range(10):\n",
    "    if os.path.isfile(arquivo):\n",
    "        data = pd.read_csv(arquivo,header=None)\n",
    "        P = primesGen(data[0])\n",
    "        Max = data.iloc[-1][0]\n",
    "    else:\n",
    "        data = pd.DataFrame([2,3,5,7,11])\n",
    "        P = primesGen(data[0])\n",
    "        Max = data.iloc[-1][0]\n",
    "    L = list()\n",
    "    for i in range(Max+1,Max+rmax):\n",
    "        s = P.primeTrue(i)\n",
    "        if s == True:\n",
    "            L.append(i)\n",
    "    S = data.append(L).reset_index(drop=True)\n",
    "    S.to_csv(arquivo,index=False, header=False)\n",
    "print(f'tempo de processo: {round(time.time()-ini,4)}s')\n",
    "print(f'maximo primo encontrado: {S[0].max()}')\n",
    "print(f'casas decimais: {len(str(S[0].max()))}')\n",
    "S.tail(3)"
   ]
  },
  {
   "cell_type": "code",
   "execution_count": 76,
   "id": "comic-gazette",
   "metadata": {},
   "outputs": [
    {
     "data": {
      "text/plain": [
       "38340067"
      ]
     },
     "execution_count": 76,
     "metadata": {},
     "output_type": "execute_result"
    }
   ],
   "source": [
    "data.iloc[-1][0]"
   ]
  },
  {
   "cell_type": "code",
   "execution_count": 72,
   "id": "underlying-dairy",
   "metadata": {},
   "outputs": [
    {
     "name": "stdout",
     "output_type": "stream",
     "text": [
      "numero: 99999999999999\n",
      "casas decimais: 14\n",
      "False\n",
      "tempo de processo: 0.0517s\n"
     ]
    }
   ],
   "source": [
    "import time\n",
    "ini = time.time()\n",
    "#d = S[0].iloc[S.index.max()]\n",
    "d = 99999999999999\n",
    "print(f'numero: {d}')\n",
    "print(f'casas decimais: {len(str(d))}')\n",
    "p = is_prime(d)\n",
    "print(p)\n",
    "print(f'tempo de processo: {round(time.time()-ini,4)}s')"
   ]
  },
  {
   "cell_type": "code",
   "execution_count": null,
   "id": "stuck-crash",
   "metadata": {},
   "outputs": [],
   "source": []
  }
 ],
 "metadata": {
  "kernelspec": {
   "display_name": "Python 3.6",
   "language": "python",
   "name": "python3.6"
  },
  "language_info": {
   "codemirror_mode": {
    "name": "ipython",
    "version": 3
   },
   "file_extension": ".py",
   "mimetype": "text/x-python",
   "name": "python",
   "nbconvert_exporter": "python",
   "pygments_lexer": "ipython3",
   "version": "3.6.9"
  }
 },
 "nbformat": 4,
 "nbformat_minor": 5
}

{
 "cells": [
  {
   "cell_type": "code",
   "execution_count": null,
   "id": "saved-accommodation",
   "metadata": {},
   "outputs": [
    {
     "name": "stdout",
     "output_type": "stream",
     "text": [
      "9999999999999999\n"
     ]
    }
   ],
   "source": [
    "import time\n",
    "ini = time.time()\n",
    "def is_prime(number):\n",
    "    if number<=10: return [True for i in range(2,10) if number%i==0].count(True)==1\n",
    "    return [True for d in range(0,int((number**0.5)+1),10) for i in [1,2,3,5,7,9] if number%(d+i)==0].count(True)==1\n",
    "\n",
    "d = int(input(''))\n",
    "p = is_prime(d)\n",
    "print(p)\n",
    "print(time.time()-ini,'s')\n",
    "\n",
    "import pandas as pd\n",
    "data = pd.read_csv('datas/primenumbers.csv',header=None)\n",
    "data.loc[data[0]==d]"
   ]
  },
  {
   "cell_type": "code",
   "execution_count": null,
   "id": "functioning-florence",
   "metadata": {},
   "outputs": [],
   "source": []
  }
 ],
 "metadata": {
  "kernelspec": {
   "display_name": "Python 3.6",
   "language": "python",
   "name": "python3.6"
  },
  "language_info": {
   "codemirror_mode": {
    "name": "ipython",
    "version": 3
   },
   "file_extension": ".py",
   "mimetype": "text/x-python",
   "name": "python",
   "nbconvert_exporter": "python",
   "pygments_lexer": "ipython3",
   "version": "3.6.9"
  }
 },
 "nbformat": 4,
 "nbformat_minor": 5
}

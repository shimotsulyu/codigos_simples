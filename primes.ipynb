{
 "cells": [
  {
   "cell_type": "code",
   "execution_count": 259,
   "id": "toxic-incentive",
   "metadata": {},
   "outputs": [
    {
     "name": "stdout",
     "output_type": "stream",
     "text": [
      "9999999999999999997\n",
      "casas decimais: 19\n",
      "False\n",
      "tempo de processo: 22.310847520828247s\n"
     ]
    },
    {
     "data": {
      "text/html": [
       "<div>\n",
       "<style scoped>\n",
       "    .dataframe tbody tr th:only-of-type {\n",
       "        vertical-align: middle;\n",
       "    }\n",
       "\n",
       "    .dataframe tbody tr th {\n",
       "        vertical-align: top;\n",
       "    }\n",
       "\n",
       "    .dataframe thead th {\n",
       "        text-align: right;\n",
       "    }\n",
       "</style>\n",
       "<table border=\"1\" class=\"dataframe\">\n",
       "  <thead>\n",
       "    <tr style=\"text-align: right;\">\n",
       "      <th></th>\n",
       "      <th>0</th>\n",
       "    </tr>\n",
       "  </thead>\n",
       "  <tbody>\n",
       "  </tbody>\n",
       "</table>\n",
       "</div>"
      ],
      "text/plain": [
       "Empty DataFrame\n",
       "Columns: [0]\n",
       "Index: []"
      ]
     },
     "execution_count": 259,
     "metadata": {},
     "output_type": "execute_result"
    }
   ],
   "source": [
    "from numba import jit\n",
    "import time\n",
    "ini = time.time()\n",
    "@jit(nopython=True)\n",
    "def is_prime(number):\n",
    "    if number<=10: return [True for i in range(2,10) if number%i==0].count(True)==1\n",
    "    return [True for d in range(0,int((number**0.5)+1),10) for i in [1,2,3,5,7,9] if number%(d+i)==0].count(True)==1\n",
    "\n",
    "#d = int(input(''))\n",
    "d = int('9'*19)-2\n",
    "print(d)\n",
    "print(f'casas decimais: {len(str(d))}')\n",
    "p = is_prime(d)\n",
    "print(p)\n",
    "print(f'tempo de processo: {time.time()-ini}s')\n",
    "\n",
    "import pandas as pd\n",
    "data = pd.read_csv('datas/primenumbers.csv',header=None)\n",
    "data.loc[data[0]==d]"
   ]
  },
  {
   "cell_type": "code",
   "execution_count": null,
   "id": "plain-launch",
   "metadata": {},
   "outputs": [],
   "source": []
  }
 ],
 "metadata": {
  "kernelspec": {
   "display_name": "Python 3.6",
   "language": "python",
   "name": "python3.6"
  },
  "language_info": {
   "codemirror_mode": {
    "name": "ipython",
    "version": 3
   },
   "file_extension": ".py",
   "mimetype": "text/x-python",
   "name": "python",
   "nbconvert_exporter": "python",
   "pygments_lexer": "ipython3",
   "version": "3.6.9"
  }
 },
 "nbformat": 4,
 "nbformat_minor": 5
}

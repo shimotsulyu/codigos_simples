{
 "cells": [
  {
   "cell_type": "code",
   "execution_count": 6,
   "metadata": {},
   "outputs": [
    {
     "name": "stdout",
     "output_type": "stream",
     "text": [
      "2 + 3\n",
      "5 \n",
      "\n",
      "2 - 3\n",
      "-1 \n",
      "\n",
      "2 * 3\n",
      "6 \n",
      "\n",
      "2 / 3\n",
      "0.6666666666666666 \n",
      "\n"
     ]
    }
   ],
   "source": [
    "class calculator:\n",
    "    def __init__(self,a,b):\n",
    "        self.a = a\n",
    "        self.b = b\n",
    "    def soma(self):\n",
    "        print(self.a,'+',self.b)\n",
    "        return self.a+self.b\n",
    "    def subtrai(self):\n",
    "        print(self.a,'-',self.b)\n",
    "        return self.a-self.b\n",
    "    def multiplica(self):\n",
    "        print(self.a,'*',self.b)\n",
    "        return self.a*self.b\n",
    "    def divide(self):\n",
    "        print(self.a,'/',self.b)\n",
    "        return self.a/self.b\n",
    "\n",
    "c = calculator(2,3)\n",
    "print(c.soma(),'\\n')\n",
    "print(c.subtrai(),'\\n')\n",
    "print(c.multiplica(),'\\n')\n",
    "print(c.divide(),'\\n')"
   ]
  },
  {
   "cell_type": "code",
   "execution_count": null,
   "metadata": {},
   "outputs": [],
   "source": []
  }
 ],
 "metadata": {
  "kernelspec": {
   "display_name": "Python 3",
   "language": "python",
   "name": "python3"
  },
  "language_info": {
   "codemirror_mode": {
    "name": "ipython",
    "version": 3
   },
   "file_extension": ".py",
   "mimetype": "text/x-python",
   "name": "python",
   "nbconvert_exporter": "python",
   "pygments_lexer": "ipython3",
   "version": "3.8.3"
  }
 },
 "nbformat": 4,
 "nbformat_minor": 4
}

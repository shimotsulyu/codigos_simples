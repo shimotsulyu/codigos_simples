{
 "cells": [
  {
   "cell_type": "code",
   "execution_count": 78,
   "metadata": {},
   "outputs": [],
   "source": [
    "def soma(a,b):\n",
    "    return a+b\n",
    "def subtrai(a,b):\n",
    "    return a-b\n",
    "def multiplica(a,b):\n",
    "    return a*b\n",
    "def divide(a,b):\n",
    "    return a/b\n",
    "def potencia(a,b):\n",
    "    return a**b\n",
    "def raiz(a,b):\n",
    "    return a**(1/b)\n",
    "\n",
    "def calculadora(operacao):\n",
    "    if '*' in operacao:\n",
    "        op = operacao.split('*')\n",
    "        a = float(op[0]); b = float(op[1])\n",
    "        return multiplica(a,b)\n",
    "    elif '/' in operacao:\n",
    "        op = operacao.split('/')\n",
    "        a = float(op[0]); b = float(op[1])\n",
    "        return divide(a,b)\n",
    "    elif '+' in operacao:\n",
    "        op = operacao.split('+')\n",
    "        a = float(op[0]); b = float(op[1])\n",
    "        return soma(a,b)\n",
    "    elif '-' in operacao:\n",
    "        op = operacao.split('-')\n",
    "        a = float(op[0]); b = float(op[1])\n",
    "        return subtrai(a,b)\n",
    "\n",
    "    \n",
    "\n"
   ]
  },
  {
   "cell_type": "code",
   "execution_count": null,
   "metadata": {},
   "outputs": [],
   "source": [
    "s = calculadora(input('operação:'))\n",
    "s"
   ]
  },
  {
   "cell_type": "code",
   "execution_count": null,
   "metadata": {},
   "outputs": [],
   "source": []
  }
 ],
 "metadata": {
  "kernelspec": {
   "display_name": "Python 3",
   "language": "python",
   "name": "python3"
  },
  "language_info": {
   "codemirror_mode": {
    "name": "ipython",
    "version": 3
   },
   "file_extension": ".py",
   "mimetype": "text/x-python",
   "name": "python",
   "nbconvert_exporter": "python",
   "pygments_lexer": "ipython3",
   "version": "3.6.9"
  }
 },
 "nbformat": 4,
 "nbformat_minor": 4
}

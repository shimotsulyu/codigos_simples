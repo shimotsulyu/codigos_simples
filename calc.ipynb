{
 "cells": [
  {
   "cell_type": "code",
   "execution_count": 2,
   "metadata": {},
   "outputs": [],
   "source": [
    "import numpy as np\n",
    "\n",
    "def twovet_angle(v,u):\n",
    "    #saída angulo theta (graus)\n",
    "    return np.arccos((v[0]*u[0]+v[1]*u[1])/(np.sqrt(u[0]**2+u[1]**2)*np.sqrt(v[0]**2+v[1]**2)))*180/np.pi\n",
    "def hipotenusa(a,b):\n",
    "    return np.sqrt(a**2+b**2)"
   ]
  },
  {
   "cell_type": "code",
   "execution_count": null,
   "metadata": {},
   "outputs": [],
   "source": []
  }
 ],
 "metadata": {
  "kernelspec": {
   "display_name": "Python 3",
   "language": "python",
   "name": "python3"
  },
  "language_info": {
   "codemirror_mode": {
    "name": "ipython",
    "version": 3
   },
   "file_extension": ".py",
   "mimetype": "text/x-python",
   "name": "python",
   "nbconvert_exporter": "python",
   "pygments_lexer": "ipython3",
   "version": "3.8.3"
  }
 },
 "nbformat": 4,
 "nbformat_minor": 4
}

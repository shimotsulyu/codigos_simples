{
 "cells": [
  {
   "cell_type": "code",
   "execution_count": 1,
   "id": "streaming-thriller",
   "metadata": {},
   "outputs": [
    {
     "data": {
      "text/plain": [
       "['matematica.ipynb',\n",
       " '.git',\n",
       " 'datas',\n",
       " '.gitignore',\n",
       " 'primes2to1299827.csv',\n",
       " 'simple_code.ipynb',\n",
       " 'find primes.ipynb',\n",
       " 'exemplo_classes.ipynb',\n",
       " 'primes.ipynb',\n",
       " 'test speed.ipynb',\n",
       " 'calc.ipynb',\n",
       " 'README.md',\n",
       " 'pandas_tricks.ipynb',\n",
       " '.ipynb_checkpoints',\n",
       " 'Untitled.ipynb']"
      ]
     },
     "execution_count": 1,
     "metadata": {},
     "output_type": "execute_result"
    }
   ],
   "source": [
    "import os\n",
    "os.listdir()"
   ]
  },
  {
   "cell_type": "code",
   "execution_count": 2,
   "id": "varied-capacity",
   "metadata": {},
   "outputs": [],
   "source": [
    "prime_true = []\n",
    "arquivo = open('primes2to1299827.csv', 'r')\n",
    "for linha in arquivo:\n",
    "    if len(linha)>1:\n",
    "        for i in linha.split():\n",
    "            prime_true.append(int(i))\n",
    "arquivo.close()"
   ]
  },
  {
   "cell_type": "code",
   "execution_count": 54,
   "id": "requested-commonwealth",
   "metadata": {},
   "outputs": [],
   "source": [
    "def check_primes(p_true,p_test):\n",
    "    for i in range(len(p_test)):\n",
    "        if p_test[i]!=p_true[i]:\n",
    "            return False, f'Position {i}, value error = {p_test[i]}'\n",
    "    return True, f'Max prime {p_test[i]}'"
   ]
  },
  {
   "cell_type": "code",
   "execution_count": 49,
   "id": "fifteen-mainland",
   "metadata": {},
   "outputs": [],
   "source": [
    "class Primes:\n",
    "    def __init__(self):\n",
    "        self.primes = [2,3,5,7,11,13]\n",
    "    def primes_list(self):\n",
    "        return self.primes\n",
    "    def prime_gen(self,p):\n",
    "        primes = []\n",
    "        for i in range(p):\n",
    "            if self.is_prime(i):\n",
    "                primes.append(i)\n",
    "        if self.primes[-1]<primes[-1]: self.primes = primes\n",
    "        return primes\n",
    "    def is_prime(self,p):\n",
    "        if p in self.primes:\n",
    "            return True\n",
    "        if p<2 or (p>2 and int(str(p)[-1])%2==0) or (p>5 and int(str(p)[-1])%5==0):\n",
    "            return False\n",
    "        if self.next_prime(p,self.primes[-1]+1)==p: return True\n",
    "        return False\n",
    "    def next_prime(self,p,P):\n",
    "        if p<2 or (p>2 and int(str(p)[-1])%2==0) or (p>5 and int(str(p)[-1])%5==0):\n",
    "            return self.next_prime(p,P+1)\n",
    "        for i in self.primes:\n",
    "            if P%i==0: return self.next_prime(p,P+1)\n",
    "        self.primes.append(P)\n",
    "        if P>=p: return P\n",
    "        return self.next_prime(p,P+1)\n",
    "    \n",
    "P = Primes()"
   ]
  },
  {
   "cell_type": "code",
   "execution_count": 61,
   "id": "signal-morning",
   "metadata": {},
   "outputs": [
    {
     "name": "stdout",
     "output_type": "stream",
     "text": [
      "142.9009666442871 seconds\n"
     ]
    }
   ],
   "source": [
    "import time\n",
    "ini = time.time()\n",
    "prime_test = P.prime_gen(100000)\n",
    "print(time.time()-ini,'seconds')"
   ]
  },
  {
   "cell_type": "code",
   "execution_count": 63,
   "id": "roman-foster",
   "metadata": {},
   "outputs": [
    {
     "data": {
      "text/plain": [
       "(True, 'Max prime 99991')"
      ]
     },
     "execution_count": 63,
     "metadata": {},
     "output_type": "execute_result"
    }
   ],
   "source": [
    "check_primes(prime_true,prime_test)"
   ]
  },
  {
   "cell_type": "code",
   "execution_count": 68,
   "id": "removable-beaver",
   "metadata": {},
   "outputs": [],
   "source": [
    "import pandas as pd\n",
    "pd.DataFrame(prime_true).to_csv('prime_true.csv',header=None,index=None)"
   ]
  },
  {
   "cell_type": "code",
   "execution_count": null,
   "id": "random-nigeria",
   "metadata": {},
   "outputs": [],
   "source": []
  }
 ],
 "metadata": {
  "kernelspec": {
   "display_name": "Python 3.6",
   "language": "python",
   "name": "python3.6"
  },
  "language_info": {
   "codemirror_mode": {
    "name": "ipython",
    "version": 3
   },
   "file_extension": ".py",
   "mimetype": "text/x-python",
   "name": "python",
   "nbconvert_exporter": "python",
   "pygments_lexer": "ipython3",
   "version": "3.6.9"
  }
 },
 "nbformat": 4,
 "nbformat_minor": 5
}
